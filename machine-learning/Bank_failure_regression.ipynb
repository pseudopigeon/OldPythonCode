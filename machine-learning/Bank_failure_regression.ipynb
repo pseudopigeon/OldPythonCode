{
 "cells": [
  {
   "cell_type": "markdown",
   "metadata": {},
   "source": [
    "## Modeling of bank failures by FDIC \n",
    "\n"
   ]
  },
  {
   "cell_type": "code",
   "execution_count": 2,
   "metadata": {},
   "outputs": [
    {
     "name": "stdout",
     "output_type": "stream",
     "text": [
      "scikit-learn version: 0.22.2.post1\n"
     ]
    }
   ],
   "source": [
    "import pandas as pd\n",
    "import numpy as np\n",
    "import time\n",
    "\n",
    "import os\n",
    "import functools\n",
    "import math\n",
    "import random\n",
    "import sys, getopt\n",
    "import sklearn\n",
    "\n",
    "sys.path.append(\"..\")\n",
    "\n",
    "try:\n",
    "    import matplotlib.pyplot as plt\n",
    "    %matplotlib inline\n",
    "except:\n",
    "    pass\n",
    "print('scikit-learn version:', sklearn.__version__)"
   ]
  },
  {
   "cell_type": "code",
   "execution_count": 5,
   "metadata": {},
   "outputs": [],
   "source": [
    "# common cell - share this across notebooks\n",
    "state_cols = ['log_TA','NI_to_TA', 'Equity_to_TA', 'NPL_to_TL', 'REO_to_TA', \n",
    "              'ALLL_to_TL', 'core_deposits_to_TA', 'brokered_deposits_to_TA', \n",
    "              'liquid_assets_to_TA', 'loss_provision_to_TL', 'NIM', 'assets_growth']\n",
    "\n",
    "all_MEVs = np.array(['term_spread',\n",
    "                    'stock_mkt_growth',\n",
    "                    'real_gdp_growth',\n",
    "                    'unemployment_rate_change',\n",
    "                    'treasury_yield_3m',\n",
    "                    'bbb_spread',\n",
    "                    'bbb_spread_change'])\n",
    "\n",
    "MEV_cols = all_MEVs.tolist()\n",
    "\n",
    "next_state_cols = ['log_TA_plus_1Q','NI_to_TA_plus_1Q', 'Equity_to_TA_plus_1Q', 'NPL_to_TL_plus_1Q', 'REO_to_TA_plus_1Q', \n",
    "                   'ALLL_to_TL_plus_1Q', 'core_deposits_to_TA_plus_1Q', 'brokered_deposits_to_TA_plus_1Q', \n",
    "                   'liquid_assets_to_TA_plus_1Q', 'loss_provision_to_TL_plus_1Q', \n",
    "                   'ROA_plus_1Q', \n",
    "                   'NIM_plus_1Q', \n",
    "                   'assets_growth_plus_1Q', \n",
    "                   'FDIC_assessment_base_plus_1Q_n']"
   ]
  },
  {
   "cell_type": "code",
   "execution_count": 6,
   "metadata": {},
   "outputs": [
    {
     "ename": "FileNotFoundError",
     "evalue": "File ../readonly/df_train_FDIC_defaults_1Y.h5 does not exist",
     "output_type": "error",
     "traceback": [
      "\u001b[0;31m---------------------------------------------------------------------------\u001b[0m",
      "\u001b[0;31mFileNotFoundError\u001b[0m                         Traceback (most recent call last)",
      "\u001b[0;32m<ipython-input-6-8a6cc9c0f09d>\u001b[0m in \u001b[0;36m<module>\u001b[0;34m\u001b[0m\n\u001b[0;32m----> 1\u001b[0;31m \u001b[0mdf_train\u001b[0m \u001b[0;34m=\u001b[0m \u001b[0mpd\u001b[0m\u001b[0;34m.\u001b[0m\u001b[0mread_hdf\u001b[0m\u001b[0;34m(\u001b[0m\u001b[0;34m'../readonly/df_train_FDIC_defaults_1Y.h5'\u001b[0m\u001b[0;34m,\u001b[0m \u001b[0mkey\u001b[0m\u001b[0;34m=\u001b[0m\u001b[0;34m'df'\u001b[0m\u001b[0;34m)\u001b[0m\u001b[0;34m\u001b[0m\u001b[0;34m\u001b[0m\u001b[0m\n\u001b[0m\u001b[1;32m      2\u001b[0m \u001b[0mdf_test\u001b[0m \u001b[0;34m=\u001b[0m \u001b[0mpd\u001b[0m\u001b[0;34m.\u001b[0m\u001b[0mread_hdf\u001b[0m\u001b[0;34m(\u001b[0m\u001b[0;34m'../readonly/df_test_FDIC_defaults_1Y.h5'\u001b[0m\u001b[0;34m,\u001b[0m \u001b[0mkey\u001b[0m\u001b[0;34m=\u001b[0m\u001b[0;34m'df'\u001b[0m\u001b[0;34m)\u001b[0m\u001b[0;34m\u001b[0m\u001b[0;34m\u001b[0m\u001b[0m\n\u001b[1;32m      3\u001b[0m \u001b[0mdf_data\u001b[0m \u001b[0;34m=\u001b[0m \u001b[0mpd\u001b[0m\u001b[0;34m.\u001b[0m\u001b[0mread_hdf\u001b[0m\u001b[0;34m(\u001b[0m\u001b[0;34m'../readonly/data_adj_FDIC_small.h5'\u001b[0m\u001b[0;34m,\u001b[0m \u001b[0mkey\u001b[0m\u001b[0;34m=\u001b[0m\u001b[0;34m'df'\u001b[0m\u001b[0;34m)\u001b[0m\u001b[0;34m\u001b[0m\u001b[0;34m\u001b[0m\u001b[0m\n\u001b[1;32m      4\u001b[0m \u001b[0mdf_closure_learn\u001b[0m \u001b[0;34m=\u001b[0m \u001b[0mpd\u001b[0m\u001b[0;34m.\u001b[0m\u001b[0mread_hdf\u001b[0m\u001b[0;34m(\u001b[0m\u001b[0;34m'../readonly/df_FDIC_learn.h5'\u001b[0m\u001b[0;34m,\u001b[0m\u001b[0mkey\u001b[0m\u001b[0;34m=\u001b[0m\u001b[0;34m'df'\u001b[0m\u001b[0;34m)\u001b[0m\u001b[0;34m\u001b[0m\u001b[0;34m\u001b[0m\u001b[0m\n\u001b[1;32m      5\u001b[0m \u001b[0mprint\u001b[0m\u001b[0;34m(\u001b[0m\u001b[0mdf_closure_learn\u001b[0m\u001b[0;34m.\u001b[0m\u001b[0mindex\u001b[0m\u001b[0;34m.\u001b[0m\u001b[0mnames\u001b[0m\u001b[0;34m)\u001b[0m\u001b[0;34m\u001b[0m\u001b[0;34m\u001b[0m\u001b[0m\n",
      "\u001b[0;32m~/finance_backend/finance_backend/lib/python3.8/site-packages/pandas/io/pytables.py\u001b[0m in \u001b[0;36mread_hdf\u001b[0;34m(path_or_buf, key, mode, errors, where, start, stop, columns, iterator, chunksize, **kwargs)\u001b[0m\n\u001b[1;32m    393\u001b[0m \u001b[0;34m\u001b[0m\u001b[0m\n\u001b[1;32m    394\u001b[0m         \u001b[0;32mif\u001b[0m \u001b[0;32mnot\u001b[0m \u001b[0mexists\u001b[0m\u001b[0;34m:\u001b[0m\u001b[0;34m\u001b[0m\u001b[0;34m\u001b[0m\u001b[0m\n\u001b[0;32m--> 395\u001b[0;31m             \u001b[0;32mraise\u001b[0m \u001b[0mFileNotFoundError\u001b[0m\u001b[0;34m(\u001b[0m\u001b[0;34mf\"File {path_or_buf} does not exist\"\u001b[0m\u001b[0;34m)\u001b[0m\u001b[0;34m\u001b[0m\u001b[0;34m\u001b[0m\u001b[0m\n\u001b[0m\u001b[1;32m    396\u001b[0m \u001b[0;34m\u001b[0m\u001b[0m\n\u001b[1;32m    397\u001b[0m         \u001b[0mstore\u001b[0m \u001b[0;34m=\u001b[0m \u001b[0mHDFStore\u001b[0m\u001b[0;34m(\u001b[0m\u001b[0mpath_or_buf\u001b[0m\u001b[0;34m,\u001b[0m \u001b[0mmode\u001b[0m\u001b[0;34m=\u001b[0m\u001b[0mmode\u001b[0m\u001b[0;34m,\u001b[0m \u001b[0merrors\u001b[0m\u001b[0;34m=\u001b[0m\u001b[0merrors\u001b[0m\u001b[0;34m,\u001b[0m \u001b[0;34m**\u001b[0m\u001b[0mkwargs\u001b[0m\u001b[0;34m)\u001b[0m\u001b[0;34m\u001b[0m\u001b[0;34m\u001b[0m\u001b[0m\n",
      "\u001b[0;31mFileNotFoundError\u001b[0m: File ../readonly/df_train_FDIC_defaults_1Y.h5 does not exist"
     ]
    }
   ],
   "source": [
    "df_train = pd.read_hdf('../readonly/df_train_FDIC_defaults_1Y.h5', key='df')\n",
    "df_test = pd.read_hdf('../readonly/df_test_FDIC_defaults_1Y.h5', key='df')\n",
    "df_data = pd.read_hdf('../readonly/data_adj_FDIC_small.h5', key='df')\n",
    "df_closure_learn = pd.read_hdf('../readonly/df_FDIC_learn.h5',key='df')\n",
    "print(df_closure_learn.index.names)"
   ]
  },
  {
   "cell_type": "markdown",
   "metadata": {},
   "source": [
    "## Construct training and testing datasets for logistic regression"
   ]
  },
  {
   "cell_type": "code",
   "execution_count": 7,
   "metadata": {},
   "outputs": [
    {
     "data": {
      "text/plain": [
       "<matplotlib.axes._subplots.AxesSubplot at 0x7f768b299e48>"
      ]
     },
     "execution_count": 7,
     "metadata": {},
     "output_type": "execute_result"
    },
    {
     "data": {
      "image/png": "[encoded data removed]",
      "text/plain": [
       "<matplotlib.figure.Figure at 0x7f76e8043710>"
      ]
     },
     "metadata": {},
     "output_type": "display_data"
    }
   ],
   "source": [
    "df_test.plot(x=state_cols[0], y='defaulter', kind='scatter')"
   ]
  },
  {
   "cell_type": "code",
   "execution_count": 8,
   "metadata": {},
   "outputs": [
    {
     "data": {
      "image/png": "[encoded data removed]",
      "text/plain": [
       "<matplotlib.figure.Figure at 0x7f768cf48128>"
      ]
     },
     "metadata": {},
     "output_type": "display_data"
    }
   ],
   "source": [
    "# Plot 4 scatter plots together\n",
    "\n",
    "# log_TA / NI_to_TA\n",
    "# log_TA / NPL_to_TL\n",
    "# log_TA / Equity_to_TA\n",
    "# log_TA /ROA\n",
    "\n",
    "first_indx = [0, 0, 0, 0]\n",
    "second_indx = [1, 3, 2, 10]\n",
    "\n",
    "X_train = df_train[state_cols].values\n",
    "y_train = df_train.defaulter.values # .reshape(-1,1)\n",
    "\n",
    "num_plots = 4\n",
    "if num_plots % 2 == 0:\n",
    "    f, axs = plt.subplots(num_plots // 2, 2)\n",
    "else:\n",
    "    f, axs = plt.subplots(num_plots// 2 + 1, 2)\n",
    "    \n",
    "f.subplots_adjust(hspace=.3)\n",
    "\n",
    "f.set_figheight(10.0)\n",
    "f.set_figwidth(10.0)\n",
    "    \n",
    "for i in range(num_plots):\n",
    "    if i % 2 == 0:\n",
    "        first_idx = i // 2\n",
    "        second_idx = 0\n",
    "    else:\n",
    "        first_idx = i // 2\n",
    "        second_idx = 1\n",
    "        \n",
    "    axs[first_idx,second_idx].plot(X_train[y_train == 1.0, first_indx[i]], \n",
    "                                   X_train[y_train == 1.0, second_indx[i]], 'r^', label=\"Failed\")\n",
    "    axs[first_idx,second_idx].plot(X_train[y_train == 0.0, first_indx[i]], \n",
    "                                   X_train[y_train == 0.0, second_indx[i]], 'go',label=\"Non-failed\") \n",
    "    \n",
    "    axs[first_idx, second_idx].legend()\n",
    "    axs[first_idx, second_idx].set_xlabel('%s' % state_cols[first_indx[i]])\n",
    "    axs[first_idx, second_idx].set_ylabel('%s' % state_cols[second_indx[i]])\n",
    "    axs[first_idx, second_idx].set_title('Failed banks vs non-failed banks')\n",
    "    axs[first_idx, second_idx].grid(True)\n",
    "    \n",
    "if num_plots % 2 != 0:\n",
    "    f.delaxes(axs[i // 2, 1])\n",
    "    \n",
    "# plt.savefig('Failed_vs_nonfailed_rr_plot.png')"
   ]
  },
  {
   "cell_type": "code",
   "execution_count": 9,
   "metadata": {
    "collapsed": true
   },
   "outputs": [],
   "source": [
    "def calc_metrics(model, df_test, y_true, threshold=0.5):\n",
    "    \"\"\"\n",
    "    Arguments:\n",
    "    model - trained model such as DecisionTreeClassifier, etc.\n",
    "    df_test - Data Frame of predictors\n",
    "    y_true - True binary labels in range {0, 1} or {-1, 1}. If labels are not binary, pos_label should be explicitly given.\n",
    "    \"\"\"\n",
    "    if model is None:\n",
    "        return 0., 0., 0.\n",
    "    \n",
    "    # prediction \n",
    "    predicted_sm = model.predict(df_test, linear=False)\n",
    "    predicted_binary = (predicted_sm > threshold).astype(int)\n",
    "\n",
    "    # print(predicted_sm.shape, y_true.shape)\n",
    "    fpr, tpr, _ = metrics.roc_curve(y_true, predicted_sm, pos_label=1)\n",
    "    \n",
    "    # compute Area Under the Receiver Operating Characteristic Curve (ROC AUC) from prediction scores\n",
    "    roc_auc = metrics.auc(fpr, tpr)\n",
    "    ks = np.max(tpr - fpr) # Kolmogorov - Smirnov test\n",
    "\n",
    "    # note that here teY[:,0] is the same as df_test.default_within_1Y\n",
    "    accuracy_score = metrics.accuracy_score(y_true, predicted_binary)\n",
    "    \n",
    "    # equivalently, Area Under the ROC Curve could be computed as:\n",
    "    # compute Area Under the Receiver Operating Characteristic Curve (ROC AUC) from prediction scores\n",
    "    # auc_score = metrics.roc_auc_score(y_true, predicted_sm)\n",
    "\n",
    "    try:\n",
    "        plt.title('Logistic Regression ROC curve')\n",
    "        plt.plot(fpr, tpr, 'b', label='AUC = %0.2f' % roc_auc)\n",
    "        plt.legend(loc='lower right')\n",
    "        plt.plot([0,1], [0,1], 'r--')\n",
    "        plt.xlabel('False positive rate')\n",
    "        plt.ylabel('True positive rate')\n",
    "\n",
    "        # plt.savefig('ROC_curve_1.png')\n",
    "        plt.show()\n",
    "    except:\n",
    "        pass\n",
    "\n",
    "    return roc_auc, accuracy_score, ks"
   ]
  },
  {
   "cell_type": "code",
   "execution_count": 10,
   "metadata": {
    "collapsed": true
   },
   "outputs": [],
   "source": [
    "def make_test_train(df_train, df_test, choice=0, predict_within_1Y=False):\n",
    "    \"\"\"\n",
    "    make the train and test datasets\n",
    "    Arguments:\n",
    "    choice - an integer 0 or -1. Controls selection of predictors. \n",
    "    Add tangible equity and assessment base as predictors\n",
    "\n",
    "    predict_within_1Y - boolean  if True, predict defaults within one year\n",
    "    Return:\n",
    "        a tuple of:\n",
    "        - training data set predictors, np.array\n",
    "        - training data set : variable to predict, np.array\n",
    "        - test data set : variable to predict, np.array\n",
    "        - predictor variable names\n",
    "    \"\"\"\n",
    "    \n",
    "    if choice == -1: # only state cols\n",
    "        predictors = state_cols\n",
    "    elif choice == 0:  # original variables\n",
    "        predictors = state_cols + MEV_cols \n",
    "\n",
    "    trX = df_train[predictors].values\n",
    "    teX = df_test[predictors].values\n",
    "    num_features = len(predictors)    \n",
    "    num_classes = 2\n",
    "\n",
    "    if predict_within_1Y == True:\n",
    "        trY = df_train[['default_within_1Y','no_default_within_1Y']].values\n",
    "        teY = df_test[['default_within_1Y','no_default_within_1Y']].values\n",
    "    else:\n",
    "        trY = df_train[['defaulter','non_defaulter']].values\n",
    "        teY = df_test[['defaulter','non_defaulter']].values\n",
    "    return trX, trY, teX, teY, predictors"
   ]
  },
  {
   "cell_type": "code",
   "execution_count": 11,
   "metadata": {},
   "outputs": [
    {
     "data": {
      "text/html": [
       "<div>\n",
       "<table border=\"1\" class=\"dataframe\">\n",
       "  <thead>\n",
       "    <tr style=\"text-align: right;\">\n",
       "      <th></th>\n",
       "      <th>term_spread</th>\n",
       "      <th>stock_mkt_growth</th>\n",
       "      <th>real_gdp_growth</th>\n",
       "      <th>unemployment_rate_change</th>\n",
       "      <th>treasury_yield_3m</th>\n",
       "      <th>bbb_spread</th>\n",
       "      <th>bbb_spread_change</th>\n",
       "    </tr>\n",
       "  </thead>\n",
       "  <tbody>\n",
       "    <tr>\n",
       "      <th>term_spread</th>\n",
       "      <td>1.000000</td>\n",
       "      <td>0.002993</td>\n",
       "      <td>-0.145941</td>\n",
       "      <td>0.299972</td>\n",
       "      <td>-0.633991</td>\n",
       "      <td>0.392349</td>\n",
       "      <td>-0.465767</td>\n",
       "    </tr>\n",
       "    <tr>\n",
       "      <th>stock_mkt_growth</th>\n",
       "      <td>0.002993</td>\n",
       "      <td>1.000000</td>\n",
       "      <td>-0.148941</td>\n",
       "      <td>0.461947</td>\n",
       "      <td>-0.081915</td>\n",
       "      <td>0.417379</td>\n",
       "      <td>-0.762702</td>\n",
       "    </tr>\n",
       "    <tr>\n",
       "      <th>real_gdp_growth</th>\n",
       "      <td>-0.145941</td>\n",
       "      <td>-0.148941</td>\n",
       "      <td>1.000000</td>\n",
       "      <td>-0.825802</td>\n",
       "      <td>0.041596</td>\n",
       "      <td>-0.820518</td>\n",
       "      <td>0.385007</td>\n",
       "    </tr>\n",
       "    <tr>\n",
       "      <th>unemployment_rate_change</th>\n",
       "      <td>0.299972</td>\n",
       "      <td>0.461947</td>\n",
       "      <td>-0.825802</td>\n",
       "      <td>1.000000</td>\n",
       "      <td>0.034355</td>\n",
       "      <td>0.881223</td>\n",
       "      <td>-0.657093</td>\n",
       "    </tr>\n",
       "    <tr>\n",
       "      <th>treasury_yield_3m</th>\n",
       "      <td>-0.633991</td>\n",
       "      <td>-0.081915</td>\n",
       "      <td>0.041596</td>\n",
       "      <td>0.034355</td>\n",
       "      <td>1.000000</td>\n",
       "      <td>-0.272072</td>\n",
       "      <td>0.290414</td>\n",
       "    </tr>\n",
       "    <tr>\n",
       "      <th>bbb_spread</th>\n",
       "      <td>0.392349</td>\n",
       "      <td>0.417379</td>\n",
       "      <td>-0.820518</td>\n",
       "      <td>0.881223</td>\n",
       "      <td>-0.272072</td>\n",
       "      <td>1.000000</td>\n",
       "      <td>-0.716249</td>\n",
       "    </tr>\n",
       "    <tr>\n",
       "      <th>bbb_spread_change</th>\n",
       "      <td>-0.465767</td>\n",
       "      <td>-0.762702</td>\n",
       "      <td>0.385007</td>\n",
       "      <td>-0.657093</td>\n",
       "      <td>0.290414</td>\n",
       "      <td>-0.716249</td>\n",
       "      <td>1.000000</td>\n",
       "    </tr>\n",
       "  </tbody>\n",
       "</table>\n",
       "</div>"
      ],
      "text/plain": [
       "                          term_spread  stock_mkt_growth  real_gdp_growth  \\\n",
       "term_spread                  1.000000          0.002993        -0.145941   \n",
       "stock_mkt_growth             0.002993          1.000000        -0.148941   \n",
       "real_gdp_growth             -0.145941         -0.148941         1.000000   \n",
       "unemployment_rate_change     0.299972          0.461947        -0.825802   \n",
       "treasury_yield_3m           -0.633991         -0.081915         0.041596   \n",
       "bbb_spread                   0.392349          0.417379        -0.820518   \n",
       "bbb_spread_change           -0.465767         -0.762702         0.385007   \n",
       "\n",
       "                          unemployment_rate_change  treasury_yield_3m  \\\n",
       "term_spread                               0.299972          -0.633991   \n",
       "stock_mkt_growth                          0.461947          -0.081915   \n",
       "real_gdp_growth                          -0.825802           0.041596   \n",
       "unemployment_rate_change                  1.000000           0.034355   \n",
       "treasury_yield_3m                         0.034355           1.000000   \n",
       "bbb_spread                                0.881223          -0.272072   \n",
       "bbb_spread_change                        -0.657093           0.290414   \n",
       "\n",
       "                          bbb_spread  bbb_spread_change  \n",
       "term_spread                 0.392349          -0.465767  \n",
       "stock_mkt_growth            0.417379          -0.762702  \n",
       "real_gdp_growth            -0.820518           0.385007  \n",
       "unemployment_rate_change    0.881223          -0.657093  \n",
       "treasury_yield_3m          -0.272072           0.290414  \n",
       "bbb_spread                  1.000000          -0.716249  \n",
       "bbb_spread_change          -0.716249           1.000000  "
      ]
     },
     "execution_count": 11,
     "metadata": {},
     "output_type": "execute_result"
    }
   ],
   "source": [
    "# look at correlations\n",
    "df_train[MEV_cols].corr()"
   ]
  },
  {
   "cell_type": "markdown",
   "metadata": {},
   "source": [
    "## Logistic regression with statsmodels\n",
    "\n",
    "### Part 1\n",
    "Performed logistic regression using **cols_to_use** as predictors. Used df_train pandas DataFrame as training data set, and df_test pandas DataDrame as testing data set to perform prediction based on the already trained model. Utilized statsmodels package. The result of fitting logistic regression  assigned to variable named **model**"
   ]
  },
  {
   "cell_type": "code",
   "execution_count": 12,
   "metadata": {},
   "outputs": [
    {
     "name": "stdout",
     "output_type": "stream",
     "text": [
      "Optimization terminated successfully.\n",
      "         Current function value: 0.160607\n",
      "         Iterations 9\n",
      "                           Logit Regression Results                           \n",
      "==============================================================================\n",
      "Dep. Variable:                      y   No. Observations:                  641\n",
      "Model:                          Logit   Df Residuals:                      622\n",
      "Method:                           MLE   Df Model:                           18\n",
      "Date:                Sat, 16 May 2020   Pseudo R-squ.:                  0.7681\n",
      "Time:                        19:36:34   Log-Likelihood:                -102.95\n",
      "converged:                       True   LL-Null:                       -444.03\n",
      "                                        LLR p-value:                3.466e-133\n",
      "==============================================================================\n",
      "                 coef    std err          z      P>|z|      [0.025      0.975]\n",
      "------------------------------------------------------------------------------\n",
      "x1            -1.6212      0.168     -9.678      0.000      -1.949      -1.293\n",
      "x2            -0.2233      0.167     -1.336      0.182      -0.551       0.104\n",
      "x3            -1.5064      0.380     -3.968      0.000      -2.250      -0.762\n",
      "x4             0.4640      0.124      3.748      0.000       0.221       0.707\n",
      "x5             0.1617      0.188      0.858      0.391      -0.208       0.531\n",
      "x6             0.1941      0.129      1.504      0.132      -0.059       0.447\n",
      "x7            -0.4046      0.141     -2.860      0.004      -0.682      -0.127\n",
      "x8             0.1175      0.096      1.229      0.219      -0.070       0.305\n",
      "x9            -0.4095      0.232     -1.766      0.077      -0.864       0.045\n",
      "x10           16.8008      5.776      2.909      0.004       5.480      28.122\n",
      "x11           -0.3356      0.172     -1.956      0.051      -0.672       0.001\n",
      "x12           -0.0163      0.179     -0.091      0.928      -0.367       0.335\n",
      "x13           -0.2921      0.650     -0.449      0.653      -1.566       0.982\n",
      "x14            0.1309      0.475      0.276      0.783      -0.800       1.061\n",
      "x15           -0.2084      0.410     -0.508      0.612      -1.013       0.596\n",
      "x16            0.3632      0.665      0.546      0.585      -0.940       1.667\n",
      "x17           -0.1949      0.694     -0.281      0.779      -1.555       1.165\n",
      "x18            0.1814      0.618      0.293      0.769      -1.030       1.393\n",
      "x19            0.3347      0.402      0.833      0.405      -0.453       1.123\n",
      "==============================================================================\n"
     ]
    }
   ],
   "source": [
    "import statsmodels.api as sm\n",
    "from sklearn import metrics\n",
    "\n",
    "cols_to_use = state_cols + MEV_cols  + ['const']\n",
    "model = None\n",
    "df_train['const'] = 1\n",
    "\n",
    "\n",
    "trX, trY, teX, teY, predictors = make_test_train(df_train, df_test)\n",
    "model = sm.Logit(trY[:,0], trX).fit()\n",
    "\n",
    "print(model.summary())"
   ]
  },
  {
   "cell_type": "code",
   "execution_count": 13,
   "metadata": {},
   "outputs": [
    {
     "data": {
      "image/png": "[encoded data removed]",
      "text/plain": [
       "<matplotlib.figure.Figure at 0x7f76ed2ff160>"
      ]
     },
     "metadata": {},
     "output_type": "display_data"
    },
    {
     "name": "stdout",
     "output_type": "stream",
     "text": [
      "Accuracy score 0.966767\n",
      "AUC score 0.986189\n",
      "Kolmogorov-Smirnov statistic 0.951297\n"
     ]
    }
   ],
   "source": [
    "# prediction \n",
    "predicted_sm = np.array([])\n",
    "\n",
    "predicted_sm = model.predict(teX) \n",
    "\n",
    "\n",
    "\n",
    "threshold = 0.5\n",
    "predicted_binary = (predicted_sm > threshold).astype(int)\n",
    "auc_score, accuracy_score, ks = calc_metrics(model, teX, df_test.defaulter)\n",
    "\n",
    "print('Accuracy score %f' % accuracy_score)\n",
    "print('AUC score %f' % auc_score)\n",
    "print('Kolmogorov-Smirnov statistic %f' % ks)\n",
    "\n",
    "# note that here teY[:,0] is the same as df_test.default_within_1Y"
   ]
  },
  {
   "cell_type": "markdown",
   "metadata": {},
   "source": [
    "## Logistic Regression with sklearn\n",
    "\n",
    "### Part 2 \n",
    "In Part 2 scikit-learn is used to perform logistic regression using the same training and test datasets.\n",
    "Once the model is trained using trX, thisTrY, it is tested using teX, thisTeY and then logistic regression score is computed.\n",
    "\n",
    "- Use **\"l1\"** penalty\n",
    "- Inverse of regularization strength is set to **1000.0**; must be a positive float. Like in support vector machines, smaller values specify stronger regularization.\n",
    "- Tolerance is set to **1e-6**"
   ]
  },
  {
   "cell_type": "code",
   "execution_count": 15,
   "metadata": {},
   "outputs": [
    {
     "name": "stdout",
     "output_type": "stream",
     "text": [
      "LogisticRegression score: 0.969789\n"
     ]
    }
   ],
   "source": [
    "from sklearn import neighbors, linear_model\n",
    "\n",
    "trX, trY, teX, teY, predictors = make_test_train(df_train, df_test)\n",
    "lr_score = 0.\n",
    "thisTrY = trY[:,0]\n",
    "thisTeY = teY[:,0]\n",
    "\n",
    "logistic = None # instantiate a model and reference it\n",
    "result = None # result of fitting the model\n",
    "\n",
    "random_state = 42\n",
    "logistic = linear_model.LogisticRegression(penalty='l1',tol=1e-6, C=1000.0)\n",
    "result = logistic.fit(trX, thisTrY)\n",
    "lr_score = logistic.score(teX, thisTeY)\n",
    "\n",
    "print('LogisticRegression score: %f' % lr_score)"
   ]
  },
  {
   "cell_type": "markdown",
   "metadata": {},
   "source": [
    "**Notes:**\n",
    "In this part scikit learn logistic regression will again be used but with different set of predictors. This will be a smaller set of predictor variables based on the analysis of P-values from the logistic regression. cols_to_use is used as predictors in df_train and df_test data sets. **defaulter** column is used as something to predict.\n",
    "\n",
    "Reference to the logistic regression model **logistic** is initialized with an instance of appropriate class from  scikit learn module and let **result** be the result of fitting the model to the training data set.\n",
    "\n",
    "The model is initialized with the following parameters:\n",
    "- Use **\"l1\"** penalty\n",
    "- Set inverse of regularization strength to **1000.0**; must be a positive float. Like in support vector machines, smaller values specify stronger regularization.\n",
    "- Set tolerance to **1e-6**"
   ]
  },
  {
   "cell_type": "code",
   "execution_count": 17,
   "metadata": {
    "collapsed": true
   },
   "outputs": [],
   "source": [
    "# Do Logistic Regression with a smaller number of predictor, based on analysis of P-values \n",
    "# for the logistic regression with a full set of variables\n",
    "\n",
    "# a smaller set is based on the analysis of P-values for the logistic regression\n",
    "cols_to_use = ['log_TA', 'NI_to_TA', 'Equity_to_TA', 'NPL_to_TL',\n",
    "               'core_deposits_to_TA',\n",
    "               'brokered_deposits_to_TA',\n",
    "               'liquid_assets_to_TA'\n",
    "              ] + ['term_spread', 'stock_mkt_growth']\n",
    "\n",
    "lr_score = 0.\n",
    "logistic = None\n",
    "result = None\n",
    "\n",
    "# .... when initializing logistic regression class in 'sklearn', set random_state to 42 like this: random_state=42\n",
    "random_state = 42\n",
    "logistic = linear_model.LogisticRegression(penalty='l1',tol=1e-6, C=1000.0)\n",
    "result = logistic.fit(df_train[cols_to_use], df_train.defaulter)\n",
    "lr_score = logistic.score(df_test[cols_to_use], df_test.defaulter)\n",
    "\n",
    "# combine results of the Logistic Regression to a small dataframe df_coeffs_LR\n",
    "df_coeffs_LR = pd.DataFrame({0: np.array([0.] * (len(cols_to_use) + 1), dtype=np.float32)})\n",
    "if logistic is not None:\n",
    "    model_params = np.hstack((logistic.coef_[0], logistic.intercept_))\n",
    "    df_coeffs_LR = pd.DataFrame(data=model_params, index=cols_to_use + ['const'])\n",
    "    df_coeffs_LR"
   ]
  },
  {
   "cell_type": "markdown",
   "metadata": {},
   "source": [
    "## Logistic Regression with Tensorflow"
   ]
  },
  {
   "cell_type": "code",
   "execution_count": 19,
   "metadata": {
    "collapsed": true
   },
   "outputs": [],
   "source": [
    "# Setup inputs and expeced outputs for Logistic Regression using Tensorflow\n",
    "cols = state_cols + MEV_cols\n",
    "# inputs to Logistic Regression (via Tensorflow)\n",
    "X_trainTf = df_train[cols].values\n",
    "X_testTf = df_test[cols].values\n",
    "\n",
    "# add constant columns to both\n",
    "X_trainTf = np.hstack((np.ones((X_trainTf.shape[0], 1)), X_trainTf))\n",
    "X_testTf = np.hstack((np.ones((X_testTf.shape[0], 1)), X_testTf))\n",
    "\n",
    "# exepectd outputs:\n",
    "y_trainTf = df_train.defaulter.astype('int').values.reshape(-1,1)\n",
    "y_testTf = df_test.defaulter.astype('int').values.reshape(-1,1)"
   ]
  },
  {
   "cell_type": "code",
   "execution_count": 20,
   "metadata": {},
   "outputs": [
    {
     "name": "stdout",
     "output_type": "stream",
     "text": [
      "Unique values to predict: [0 1]\n",
      "Number of samples to train on: 641\n",
      "Number of samples to test on: 331\n"
     ]
    }
   ],
   "source": [
    "print('Unique values to predict:', np.unique(y_trainTf))\n",
    "print('Number of samples to train on:', y_trainTf.shape[0])\n",
    "print('Number of samples to test on:', y_testTf.shape[0])"
   ]
  },
  {
   "cell_type": "code",
   "execution_count": 21,
   "metadata": {
    "collapsed": true
   },
   "outputs": [],
   "source": [
    "# to make this notebook's output stable across runs\n",
    "def reset_graph(seed=42):\n",
    "    tf.reset_default_graph()\n",
    "    tf.set_random_seed(seed)\n",
    "    np.random.seed(seed)"
   ]
  },
  {
   "cell_type": "code",
   "execution_count": 22,
   "metadata": {
    "collapsed": true
   },
   "outputs": [],
   "source": [
    "def random_batch(X_train, y_train, batch_size):\n",
    "    np.random.seed(42)\n",
    "    rnd_indices = np.random.randint(0, len(X_train), batch_size)\n",
    "    X_batch = X_train[rnd_indices]\n",
    "    y_batch = y_train[rnd_indices]\n",
    "    return X_batch, y_batch"
   ]
  },
  {
   "cell_type": "markdown",
   "metadata": {},
   "source": [
    "### Build Logistic Regression TF model\n",
    "\n",
    "**instructions**\n",
    "\n",
    "in tensorflow create: \n",
    " - placeholder for inputs called 'X' \n",
    " - placeholder for inputs called 'y'\n",
    " - variable for model parameters called 'theta', initialized with theta_init\n",
    "\n",
    "loss function: use log loss\n",
    "optimizer: use Gradient Descent optimizer"
   ]
  },
  {
   "cell_type": "code",
   "execution_count": 23,
   "metadata": {
    "collapsed": true
   },
   "outputs": [],
   "source": [
    "import tensorflow as tf\n",
    "\n",
    "# define the model\n",
    "reset_graph()\n",
    "n_inputs = X_trainTf.shape[1]\n",
    "learning_rate = 0.01\n",
    "theta_init = tf.random_uniform([n_inputs, 1], -1.0, 1.0, seed=42)\n",
    "\n",
    "# build Logistic Regression model using Tensorflow\n",
    "\n",
    "X = tf.placeholder(tf.float32, shape=(None, n_inputs), name=\"X\")\n",
    "y = tf.placeholder(tf.float32, shape=(None, 1), name=\"y\")\n",
    "theta = tf.Variable(theta_init, name=\"theta\")\n",
    "\n",
    "\n",
    "logits = tf.matmul(X, theta)\n",
    "# y_proba = 1 / (1 + tf.exp(-logits)) # = 1 / (1 + tf.exp(-logits)) = sigmoid ativation\n",
    "y_proba = tf.sigmoid(logits)\n",
    "\n",
    "epsilon = 1e-7\n",
    "loss = tf.losses.log_loss(y, y_proba, epsilon=epsilon)\n",
    "optimizer = tf.train.GradientDescentOptimizer(learning_rate).minimize(loss)\n",
    "\n",
    "\n",
    "# uses epsilon = 1e-7 by default to regularize the log function\n",
    "\n",
    "\n",
    "init = tf.global_variables_initializer()"
   ]
  },
  {
   "cell_type": "markdown",
   "metadata": {},
   "source": [
    "\n",
    "### Train Logistic Regression TF model\n",
    "\n",
    "**Instructions**\n",
    "- Use random_batch() function to grab batches from X_trainTf and y_trainTf.\n",
    "- Once the model is trained evaluate it based on X_testTf and y_testTf. \n",
    "- The **y_proba_val** should be assigned the result of the evaluation on test dataset."
   ]
  },
  {
   "cell_type": "code",
   "execution_count": 25,
   "metadata": {},
   "outputs": [],
   "source": [
    "n_epochs = 1001\n",
    "batch_size = 50\n",
    "num_rec = X_trainTf.shape[0]\n",
    "n_batches = int(np.ceil(num_rec / batch_size))\n",
    "\n",
    "y_proba_val = np.array([], dtype=np.float32)\n",
    "\n",
    "with tf.Session() as sess:\n",
    "    sess.run(init)\n",
    "\n",
    "    for epoch in range(n_epochs):\n",
    "        for batch_index in range(n_batches):\n",
    "            X_batch, y_batch = random_batch(X_trainTf, y_trainTf, batch_size)\n",
    "            sess.run([optimizer, loss], feed_dict={X: X_batch,\n",
    "                                                 y: y_batch})\n",
    "    y_proba_val = sess.run(y_proba, feed_dict={X: X_testTf})"
   ]
  },
  {
   "cell_type": "code",
   "execution_count": 26,
   "metadata": {},
   "outputs": [
    {
     "name": "stdout",
     "output_type": "stream",
     "text": [
      "149\n"
     ]
    }
   ],
   "source": [
    "# predictions\n",
    "threshold = 0.5\n",
    "y_pred = (y_proba_val >= threshold)\n",
    "print(np.sum(y_pred))"
   ]
  },
  {
   "cell_type": "code",
   "execution_count": 27,
   "metadata": {},
   "outputs": [
    {
     "data": {
      "text/plain": [
       "array([ True, False, False,  True,  True,  True, False,  True, False,\n",
       "        True, False,  True, False, False, False,  True, False, False,\n",
       "        True, False,  True, False, False, False, False, False, False,\n",
       "       False, False, False, False, False,  True, False, False,  True,\n",
       "        True,  True, False,  True,  True, False,  True,  True,  True,\n",
       "       False, False, False, False,  True,  True,  True, False,  True,\n",
       "       False,  True, False, False, False,  True,  True,  True, False,\n",
       "        True,  True,  True, False,  True, False,  True, False,  True,\n",
       "       False, False, False, False,  True, False,  True,  True,  True,\n",
       "        True, False,  True, False, False,  True, False, False,  True,\n",
       "       False, False,  True, False, False,  True, False,  True,  True,\n",
       "        True,  True,  True, False,  True, False,  True, False,  True,\n",
       "        True, False,  True, False,  True, False,  True,  True, False,\n",
       "        True, False, False,  True,  True, False,  True, False, False,\n",
       "       False, False,  True, False, False, False,  True,  True, False,\n",
       "       False, False,  True, False,  True, False,  True, False, False,\n",
       "       False, False, False,  True, False, False,  True, False,  True,\n",
       "        True, False,  True, False, False,  True,  True,  True, False,\n",
       "       False, False,  True,  True,  True,  True, False,  True, False,\n",
       "        True, False,  True,  True,  True, False, False, False, False,\n",
       "       False, False,  True, False, False,  True, False, False, False,\n",
       "       False, False, False,  True, False, False,  True,  True, False,\n",
       "        True,  True,  True, False,  True,  True,  True, False,  True,\n",
       "       False, False,  True,  True, False, False,  True, False,  True,\n",
       "       False, False, False, False, False,  True,  True, False, False,\n",
       "       False, False,  True, False, False, False,  True, False,  True,\n",
       "       False, False,  True,  True,  True, False, False,  True,  True,\n",
       "        True,  True,  True, False, False, False, False, False, False,\n",
       "       False,  True,  True, False, False, False, False, False,  True,\n",
       "        True, False,  True, False, False,  True,  True,  True,  True,\n",
       "       False, False,  True,  True,  True, False,  True, False, False,\n",
       "       False,  True, False,  True,  True, False,  True,  True,  True,\n",
       "        True,  True, False,  True,  True,  True, False,  True,  True,\n",
       "       False,  True, False, False, False,  True,  True, False, False,\n",
       "        True, False,  True,  True, False, False, False,  True, False,\n",
       "        True, False, False, False, False, False, False,  True, False,\n",
       "        True, False, False,  True, False, False, False], dtype=bool)"
      ]
     },
     "execution_count": 27,
     "metadata": {},
     "output_type": "execute_result"
    }
   ],
   "source": [
    "y_pred.squeeze()"
   ]
  },
  {
   "cell_type": "code",
   "execution_count": 28,
   "metadata": {},
   "outputs": [
    {
     "name": "stdout",
     "output_type": "stream",
     "text": [
      "precision:  0.979865771812\n",
      "recall:  0.906832298137\n",
      "AUC score =  0.982243332115\n",
      "roc_auc =  0.982243332115\n",
      "KS_test =  0.927438801608\n"
     ]
    },
    {
     "data": {
      "image/png": "[encoded data removed]",
      "text/plain": [
       "<matplotlib.figure.Figure at 0x7f767857cba8>"
      ]
     },
     "metadata": {},
     "output_type": "display_data"
    }
   ],
   "source": [
    "# evaluate precision, recall, and AUC\n",
    "\n",
    "auc_score = 0.\n",
    "ks = 0.\n",
    "roc_auc = 0.\n",
    "recall = 0.\n",
    "precision = 0.\n",
    "\n",
    "from sklearn.metrics import precision_score, recall_score\n",
    "if y_proba_val.shape == y_testTf.shape:\n",
    "    precision = precision_score(y_testTf, y_pred)\n",
    "    recall = recall_score(y_testTf, y_pred)\n",
    "    auc_score = metrics.roc_auc_score(y_testTf, y_proba_val)\n",
    "    fpr, tpr, threshold = metrics.roc_curve(y_testTf, y_proba_val, pos_label=1)\n",
    "    roc_auc = metrics.auc(fpr, tpr)\n",
    "    ks = np.max(tpr - fpr)\n",
    "\n",
    "    print('precision: ', precision)\n",
    "    print('recall: ', recall)\n",
    "    print('AUC score = ', auc_score)\n",
    "    print('roc_auc = ', roc_auc)\n",
    "    print('KS_test = ', ks)\n",
    "\n",
    "    try:\n",
    "        plt.title('ROC_curve')\n",
    "        plt.plot(fpr, tpr, 'b', label='AUC = %0.2f' % roc_auc)\n",
    "        plt.legend(loc='lower right')\n",
    "        plt.plot([0,1], [0,1], 'r--')\n",
    "        plt.xlabel('False positive rate')\n",
    "        plt.ylabel('True positive rate')\n",
    "        plt.savefig('ROC_curve_TF.png')\n",
    "        plt.show()\n",
    "    except:\n",
    "        pass"
   ]
  },
  {
   "cell_type": "markdown",
   "metadata": {},
   "source": [
    "## Neural Network with Tensorflow"
   ]
  },
  {
   "cell_type": "code",
   "execution_count": 30,
   "metadata": {
    "collapsed": true
   },
   "outputs": [],
   "source": [
    "cols = state_cols + MEV_cols\n",
    "n_inputs = len(cols)\n",
    "\n",
    "# inputs \n",
    "X_trainTf = df_train[cols].values\n",
    "X_testTf = df_test[cols].values\n",
    "\n",
    "# outputs \n",
    "y_trainTf = df_train['defaulter'].astype('int').values.reshape(-1,)\n",
    "y_testTf = df_test['defaulter'].astype('int').values.reshape(-1,)"
   ]
  },
  {
   "cell_type": "code",
   "execution_count": 31,
   "metadata": {
    "collapsed": true
   },
   "outputs": [],
   "source": [
    "import numpy as np\n",
    "def neuron_layer(X, n_neurons, name, activation=None):\n",
    "    with tf.name_scope(name):\n",
    "        tf.set_random_seed(42)\n",
    "        n_inputs = int(X.get_shape()[1])\n",
    "        stddev = 2 / np.sqrt(n_inputs)\n",
    "        init = tf.truncated_normal((n_inputs, n_neurons), stddev=stddev)\n",
    "        W = tf.Variable(init, name=\"kernel\")\n",
    "        b = tf.Variable(tf.zeros([n_neurons]), name=\"bias\")\n",
    "        Z = tf.matmul(X, W) + b\n",
    "        if activation is not None:\n",
    "            return activation(Z)\n",
    "        else:\n",
    "            return Z"
   ]
  },
  {
   "cell_type": "markdown",
   "metadata": {},
   "source": [
    "### Neural Network Construction\n",
    "\n",
    "**Details:**\n",
    "A Neural Network is implemented with two hidden layers. The number of nodes in the first and the second hidden layers is **n_hidden1** and **n_hidden2** correspondingly.\n",
    "neuron_layer() is used as a function to construct neural network layers.\n",
    "\n",
    "- ReLU activation is used function for hidden layers\n",
    "- The output layer has **n_outputs** and does not have an activation function\n",
    "- Sparse softmax cross-entropy is used with logits as a loss function"
   ]
  },
  {
   "cell_type": "code",
   "execution_count": 34,
   "metadata": {},
   "outputs": [],
   "source": [
    "n_hidden1 = 20\n",
    "n_hidden2 = 10\n",
    "n_outputs = 2 # binary classification (defaulted, not defaulted bank)\n",
    "\n",
    "reset_graph()\n",
    "\n",
    "X = tf.placeholder(tf.float32, shape=(None, n_inputs), name=\"X\")\n",
    "y = tf.placeholder(tf.int32, shape=(None), name=\"y\")\n",
    "\n",
    "\n",
    "with tf.name_scope(\"logr\"):\n",
    "    hidden1 = neuron_layer(X, n_hidden1, \"hidden1\", tf.nn.relu)\n",
    "    hidden2 = neuron_layer(hidden1, n_hidden2, \"hidden2\", tf.nn.relu)\n",
    "    logits = neuron_layer(hidden2, n_outputs, \"outputs\")\n",
    "    \n",
    "with tf.name_scope(\"loss\"):\n",
    "    xentropy = tf.nn.sparse_softmax_cross_entropy_with_logits(logits=logits, labels=y)\n",
    "    loss = tf.reduce_mean(xentropy, name=\"loss\")\n",
    "    \n",
    "with tf.name_scope(\"train\"):\n",
    "    optimizer = tf.train.GradientDescentOptimizer(learning_rate)\n",
    "    training_op = optimizer.minimize(loss)\n",
    "    \n",
    "with tf.name_scope(\"eval\"):\n",
    "    correct = tf.nn.in_top_k(logits, y, 1)\n",
    "    accuracy = tf.reduce_mean(tf.cast(correct, tf.float32))\n",
    "\n",
    "\n",
    "init = tf.global_variables_initializer()"
   ]
  },
  {
   "cell_type": "markdown",
   "metadata": {},
   "source": [
    "### Train Neural Network\n",
    "\n",
    "**Details:**\n",
    "A neural network is trained by passing batches of inputs of size **batch_size**, which predicts bank defaults / non-defaults. Once the network is trained, accuracy is evaluated using **X_testTf**, **y_testTf**\n"
   ]
  },
  {
   "cell_type": "code",
   "execution_count": 35,
   "metadata": {
    "collapsed": true
   },
   "outputs": [],
   "source": [
    "learning_rate = 0.05\n",
    "n_epochs = 400\n",
    "batch_size = 50\n",
    "num_rec = X_trainTf.shape[0]\n",
    "n_batches = int(np.ceil(num_rec / batch_size))\n",
    "acc_test = 0. #  assign the result of accuracy testing to this variable\n",
    "\n",
    "\n",
    "with tf.Session() as sess:\n",
    "    sess.run(init)\n",
    "    for epoch in range(n_epochs):\n",
    "        for batch_index in range(n_batches):\n",
    "            X_batch, y_batch = random_batch(X_trainTf, y_trainTf, batch_size)\n",
    "            sess.run(training_op, feed_dict={X: X_batch,\n",
    "                                                 y: y_batch})\n",
    "#     _, loss, logits = sess.run([optimizer, loss], feed_dict={X: X_testTf,\n",
    "#                                                             y: y_testTf})\n",
    "    \n",
    "    acc_test = accuracy.eval(feed_dict={X: X_testTf,\n",
    "                                        y: y_testTf}) \n"
   ]
  },
  {
   "cell_type": "code",
   "execution_count": null,
   "metadata": {
    "collapsed": true
   },
   "outputs": [],
   "source": []
  }
 ],
 "metadata": {
  "anaconda-cloud": {},
  "coursera": {
   "course_slug": "guided-tour-machine-learning-finance"
  },
  "kernelspec": {
   "display_name": "Python 3",
   "language": "python",
   "name": "python3"
  },
  "language_info": {
   "codemirror_mode": {
    "name": "ipython",
    "version": 3
   },
   "file_extension": ".py",
   "mimetype": "text/x-python",
   "name": "python",
   "nbconvert_exporter": "python",
   "pygments_lexer": "ipython3",
   "version": "3.8.2"
  }
 },
 "nbformat": 4,
 "nbformat_minor": 1
}
