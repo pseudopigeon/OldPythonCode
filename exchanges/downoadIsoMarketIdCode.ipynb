{
 "cells": [
  {
   "cell_type": "code",
   "execution_count": 5,
   "metadata": {},
   "outputs": [],
   "source": [
    "import pandas as pd\n",
    "import requests\n",
    "from contextlib import closing\n",
    "import csv"
   ]
  },
  {
   "cell_type": "code",
   "execution_count": 4,
   "metadata": {},
   "outputs": [],
   "source": [
    "save_dir = 'testData/'\n",
    "url = 'https://www.iso20022.org/sites/default/files/ISO10383_MIC/ISO10383_MIC.csv'"
   ]
  },
  {
   "cell_type": "code",
   "execution_count": 6,
   "metadata": {},
   "outputs": [],
   "source": [
    "df = pd.read_csv(url, encoding='ISO-8859-1')"
   ]
  },
  {
   "cell_type": "code",
   "execution_count": 7,
   "metadata": {},
   "outputs": [
    {
     "data": {
      "text/plain": [
       "Index(['COUNTRY', 'ISO COUNTRY CODE (ISO 3166)', 'MIC', 'OPERATING MIC', 'O/S',\n",
       "       'NAME-INSTITUTION DESCRIPTION', 'ACRONYM', 'CITY', 'WEBSITE',\n",
       "       'STATUS DATE', 'STATUS', 'CREATION DATE', 'COMMENTS'],\n",
       "      dtype='object')"
      ]
     },
     "execution_count": 7,
     "metadata": {},
     "output_type": "execute_result"
    }
   ],
   "source": [
    "df.columns"
   ]
  },
  {
   "cell_type": "code",
   "execution_count": 8,
   "metadata": {},
   "outputs": [
    {
     "data": {
      "text/plain": [
       "<bound method NDFrame.head of                        COUNTRY ISO COUNTRY CODE (ISO 3166)   MIC  \\\n",
       "0                        SPAIN                          ES  MIBG   \n",
       "1               UNITED KINGDOM                          GB  EXEU   \n",
       "2               UNITED KINGDOM                          GB  EXMP   \n",
       "3               UNITED KINGDOM                          GB  EXOR   \n",
       "4               UNITED KINGDOM                          GB  EXVP   \n",
       "...                        ...                         ...   ...   \n",
       "1991            UNITED KINGDOM                          GB  BNPL   \n",
       "1992                  BULGARIA                          BG  T212   \n",
       "1993  UNITED STATES OF AMERICA                          US  CCMX   \n",
       "1994                    TURKEY                          TR  TMEX   \n",
       "1995                   GERMANY                          DE  OLBB   \n",
       "\n",
       "     OPERATING MIC O/S                       NAME-INSTITUTION DESCRIPTION  \\\n",
       "0             MIBG   O                         MERCADO ORGANIZADO DEL GAS   \n",
       "1             EXEU   O                                  EXANE BNP PARIBAS   \n",
       "2             EXEU   S                      EXANE BNP PARIBAS - MID POINT   \n",
       "3             EXEU   S           EXANE BNP PARIBAS - CHILD ORDER CROSSING   \n",
       "4             EXEU   S        EXANE BNP PARIBAS - VOLUME PROFILE CROSSING   \n",
       "...            ...  ..                                                ...   \n",
       "1991          BNPL   O  BNP PARIBAS SA LONDON BRANCH - SYSTEMATIC INTE...   \n",
       "1992          T212   O      TRADING 212 LIMITED - SYSTEMATIC INTERNALISER   \n",
       "1993          CCMX   O                                             CARTAX   \n",
       "1994          TMEX   O                        TURKISH MERCANTILE EXCHANGE   \n",
       "1995          OLBB   O  OLDENBURGISCHE LANDESBANK AG FX  HANDEL - SYST...   \n",
       "\n",
       "                ACRONYM       CITY                  WEBSITE     STATUS DATE  \\\n",
       "0                MIBGAS     MADRID  WWW.MERCADOSGAS.OMIE.ES       JULY 2015   \n",
       "1                  EXEU     LONDON            WWW.EXANE.COM       JULY 2015   \n",
       "2     EXANE BNP PARIBAS     LONDON            WWW.EXANE.COM       JULY 2015   \n",
       "3                   NaN     LONDON            WWW.EXANE.COM     AUGUST 2015   \n",
       "4                   NaN     LONDON            WWW.EXANE.COM       JULY 2015   \n",
       "...                 ...        ...                      ...             ...   \n",
       "1991      BNPP SA LB SI     LONDON   WWW.CIB.BNPPARIBAS.COM  SEPTEMBER 2020   \n",
       "1992                NaN      SOFIA       WWW.TRADING212.COM  SEPTEMBER 2020   \n",
       "1993                NaN   NEW YORK      HTTPS://CARTA.COM/X  SEPTEMBER 2020   \n",
       "1994                NaN     ANKARA         WWW.TURIB.COM.TR  SEPTEMBER 2020   \n",
       "1995                NaN  OLDENBURG               WWW.OLB.DE  SEPTEMBER 2020   \n",
       "\n",
       "      STATUS   CREATION DATE  \\\n",
       "0     ACTIVE       JULY 2015   \n",
       "1     ACTIVE       JULY 2015   \n",
       "2     ACTIVE       JULY 2015   \n",
       "3     ACTIVE       JULY 2015   \n",
       "4     ACTIVE       JULY 2015   \n",
       "...      ...             ...   \n",
       "1991  ACTIVE  SEPTEMBER 2020   \n",
       "1992  ACTIVE  SEPTEMBER 2020   \n",
       "1993  ACTIVE  SEPTEMBER 2020   \n",
       "1994  ACTIVE  SEPTEMBER 2020   \n",
       "1995  ACTIVE  SEPTEMBER 2020   \n",
       "\n",
       "                                               COMMENTS  \n",
       "0     REGULATED MARKET OPERATOR FOR THE ORGANISED GA...  \n",
       "1     OPERATING MIC COVERING THE CROSSING MECHANISMS...  \n",
       "2     EUROPEAN MID-POINT CROSSING NETWORK OPERATED B...  \n",
       "3     SMART ORDER ROUTING CROSSING MECHANISM OPERATE...  \n",
       "4     CROSSING MECHANISM OPERATED BY EXANE BNP PARIB...  \n",
       "...                                                 ...  \n",
       "1991          SYSTEMATIC INTERNALISER. FOR UK MIFID II.  \n",
       "1992                           SYSTEMATIC INTERNALISER.  \n",
       "1993                                                NaN  \n",
       "1994                                                NaN  \n",
       "1995                           SYSTEMATIC INTERNALISER.  \n",
       "\n",
       "[1996 rows x 13 columns]>"
      ]
     },
     "execution_count": 8,
     "metadata": {},
     "output_type": "execute_result"
    }
   ],
   "source": [
    "df.head"
   ]
  },
  {
   "cell_type": "code",
   "execution_count": 6,
   "metadata": {},
   "outputs": [
    {
     "name": "stdout",
     "output_type": "stream",
     "text": [
      "<class 'pandas.core.frame.DataFrame'>\n",
      "RangeIndex: 1996 entries, 0 to 1995\n",
      "Data columns (total 13 columns):\n",
      " #   Column                        Non-Null Count  Dtype \n",
      "---  ------                        --------------  ----- \n",
      " 0   COUNTRY                       1996 non-null   object\n",
      " 1   ISO COUNTRY CODE (ISO 3166)   1995 non-null   object\n",
      " 2   MIC                           1996 non-null   object\n",
      " 3   OPERATING MIC                 1996 non-null   object\n",
      " 4   O/S                           1996 non-null   object\n",
      " 5   NAME-INSTITUTION DESCRIPTION  1996 non-null   object\n",
      " 6   ACRONYM                       749 non-null    object\n",
      " 7   CITY                          1994 non-null   object\n",
      " 8   WEBSITE                       1957 non-null   object\n",
      " 9   STATUS DATE                   1996 non-null   object\n",
      " 10  STATUS                        1996 non-null   object\n",
      " 11  CREATION DATE                 1996 non-null   object\n",
      " 12  COMMENTS                      1206 non-null   object\n",
      "dtypes: object(13)\n",
      "memory usage: 202.8+ KB\n"
     ]
    }
   ],
   "source": [
    "df.info()"
   ]
  },
  {
   "cell_type": "code",
   "execution_count": 7,
   "metadata": {},
   "outputs": [
    {
     "data": {
      "text/html": [
       "<div>\n",
       "<style scoped>\n",
       "    .dataframe tbody tr th:only-of-type {\n",
       "        vertical-align: middle;\n",
       "    }\n",
       "\n",
       "    .dataframe tbody tr th {\n",
       "        vertical-align: top;\n",
       "    }\n",
       "\n",
       "    .dataframe thead th {\n",
       "        text-align: right;\n",
       "    }\n",
       "</style>\n",
       "<table border=\"1\" class=\"dataframe\">\n",
       "  <thead>\n",
       "    <tr style=\"text-align: right;\">\n",
       "      <th></th>\n",
       "      <th>COUNTRY</th>\n",
       "      <th>ISO COUNTRY CODE (ISO 3166)</th>\n",
       "      <th>MIC</th>\n",
       "      <th>OPERATING MIC</th>\n",
       "      <th>O/S</th>\n",
       "      <th>NAME-INSTITUTION DESCRIPTION</th>\n",
       "      <th>ACRONYM</th>\n",
       "      <th>CITY</th>\n",
       "      <th>WEBSITE</th>\n",
       "      <th>STATUS DATE</th>\n",
       "      <th>STATUS</th>\n",
       "      <th>CREATION DATE</th>\n",
       "      <th>COMMENTS</th>\n",
       "    </tr>\n",
       "  </thead>\n",
       "  <tbody>\n",
       "    <tr>\n",
       "      <th>0</th>\n",
       "      <td>SPAIN</td>\n",
       "      <td>ES</td>\n",
       "      <td>MIBG</td>\n",
       "      <td>MIBG</td>\n",
       "      <td>O</td>\n",
       "      <td>MERCADO ORGANIZADO DEL GAS</td>\n",
       "      <td>MIBGAS</td>\n",
       "      <td>MADRID</td>\n",
       "      <td>WWW.MERCADOSGAS.OMIE.ES</td>\n",
       "      <td>JULY 2015</td>\n",
       "      <td>ACTIVE</td>\n",
       "      <td>JULY 2015</td>\n",
       "      <td>REGULATED MARKET OPERATOR FOR THE ORGANISED GA...</td>\n",
       "    </tr>\n",
       "    <tr>\n",
       "      <th>1</th>\n",
       "      <td>UNITED KINGDOM</td>\n",
       "      <td>GB</td>\n",
       "      <td>EXEU</td>\n",
       "      <td>EXEU</td>\n",
       "      <td>O</td>\n",
       "      <td>EXANE BNP PARIBAS</td>\n",
       "      <td>EXEU</td>\n",
       "      <td>LONDON</td>\n",
       "      <td>WWW.EXANE.COM</td>\n",
       "      <td>JULY 2015</td>\n",
       "      <td>ACTIVE</td>\n",
       "      <td>JULY 2015</td>\n",
       "      <td>OPERATING MIC COVERING THE CROSSING MECHANISMS...</td>\n",
       "    </tr>\n",
       "    <tr>\n",
       "      <th>2</th>\n",
       "      <td>UNITED KINGDOM</td>\n",
       "      <td>GB</td>\n",
       "      <td>EXMP</td>\n",
       "      <td>EXEU</td>\n",
       "      <td>S</td>\n",
       "      <td>EXANE BNP PARIBAS - MID POINT</td>\n",
       "      <td>EXANE BNP PARIBAS</td>\n",
       "      <td>LONDON</td>\n",
       "      <td>WWW.EXANE.COM</td>\n",
       "      <td>JULY 2015</td>\n",
       "      <td>ACTIVE</td>\n",
       "      <td>JULY 2015</td>\n",
       "      <td>EUROPEAN MID-POINT CROSSING NETWORK OPERATED B...</td>\n",
       "    </tr>\n",
       "    <tr>\n",
       "      <th>3</th>\n",
       "      <td>UNITED KINGDOM</td>\n",
       "      <td>GB</td>\n",
       "      <td>EXOR</td>\n",
       "      <td>EXEU</td>\n",
       "      <td>S</td>\n",
       "      <td>EXANE BNP PARIBAS - CHILD ORDER CROSSING</td>\n",
       "      <td>NaN</td>\n",
       "      <td>LONDON</td>\n",
       "      <td>WWW.EXANE.COM</td>\n",
       "      <td>AUGUST 2015</td>\n",
       "      <td>ACTIVE</td>\n",
       "      <td>JULY 2015</td>\n",
       "      <td>SMART ORDER ROUTING CROSSING MECHANISM OPERATE...</td>\n",
       "    </tr>\n",
       "    <tr>\n",
       "      <th>4</th>\n",
       "      <td>UNITED KINGDOM</td>\n",
       "      <td>GB</td>\n",
       "      <td>EXVP</td>\n",
       "      <td>EXEU</td>\n",
       "      <td>S</td>\n",
       "      <td>EXANE BNP PARIBAS - VOLUME PROFILE CROSSING</td>\n",
       "      <td>NaN</td>\n",
       "      <td>LONDON</td>\n",
       "      <td>WWW.EXANE.COM</td>\n",
       "      <td>JULY 2015</td>\n",
       "      <td>ACTIVE</td>\n",
       "      <td>JULY 2015</td>\n",
       "      <td>CROSSING MECHANISM OPERATED BY EXANE BNP PARIB...</td>\n",
       "    </tr>\n",
       "  </tbody>\n",
       "</table>\n",
       "</div>"
      ],
      "text/plain": [
       "          COUNTRY ISO COUNTRY CODE (ISO 3166)   MIC OPERATING MIC O/S  \\\n",
       "0           SPAIN                          ES  MIBG          MIBG   O   \n",
       "1  UNITED KINGDOM                          GB  EXEU          EXEU   O   \n",
       "2  UNITED KINGDOM                          GB  EXMP          EXEU   S   \n",
       "3  UNITED KINGDOM                          GB  EXOR          EXEU   S   \n",
       "4  UNITED KINGDOM                          GB  EXVP          EXEU   S   \n",
       "\n",
       "                  NAME-INSTITUTION DESCRIPTION            ACRONYM    CITY  \\\n",
       "0                   MERCADO ORGANIZADO DEL GAS             MIBGAS  MADRID   \n",
       "1                            EXANE BNP PARIBAS               EXEU  LONDON   \n",
       "2                EXANE BNP PARIBAS - MID POINT  EXANE BNP PARIBAS  LONDON   \n",
       "3     EXANE BNP PARIBAS - CHILD ORDER CROSSING                NaN  LONDON   \n",
       "4  EXANE BNP PARIBAS - VOLUME PROFILE CROSSING                NaN  LONDON   \n",
       "\n",
       "                   WEBSITE  STATUS DATE  STATUS CREATION DATE  \\\n",
       "0  WWW.MERCADOSGAS.OMIE.ES    JULY 2015  ACTIVE     JULY 2015   \n",
       "1            WWW.EXANE.COM    JULY 2015  ACTIVE     JULY 2015   \n",
       "2            WWW.EXANE.COM    JULY 2015  ACTIVE     JULY 2015   \n",
       "3            WWW.EXANE.COM  AUGUST 2015  ACTIVE     JULY 2015   \n",
       "4            WWW.EXANE.COM    JULY 2015  ACTIVE     JULY 2015   \n",
       "\n",
       "                                            COMMENTS  \n",
       "0  REGULATED MARKET OPERATOR FOR THE ORGANISED GA...  \n",
       "1  OPERATING MIC COVERING THE CROSSING MECHANISMS...  \n",
       "2  EUROPEAN MID-POINT CROSSING NETWORK OPERATED B...  \n",
       "3  SMART ORDER ROUTING CROSSING MECHANISM OPERATE...  \n",
       "4  CROSSING MECHANISM OPERATED BY EXANE BNP PARIB...  "
      ]
     },
     "execution_count": 7,
     "metadata": {},
     "output_type": "execute_result"
    }
   ],
   "source": [
    "df.head()"
   ]
  },
  {
   "cell_type": "code",
   "execution_count": 8,
   "metadata": {},
   "outputs": [],
   "source": [
    "import csv, json"
   ]
  },
  {
   "cell_type": "code",
   "execution_count": 9,
   "metadata": {},
   "outputs": [],
   "source": [
    "# Function to convert a CSV to JSON \n",
    "# Takes the file paths as arguments \n",
    "def make_json(csvFilePath, jsonFilePath): \n",
    "      \n",
    "    # create a dictionary \n",
    "    data = {} \n",
    "      \n",
    "    # Open a csv reader called DictReader \n",
    "    with open(csvFilePath, encoding='utf-8') as csvf: \n",
    "        csvReader = csv.DictReader(csvf) \n",
    "          \n",
    "        # Convert each row into a dictionary  \n",
    "        # and add it to data \n",
    "        for rows in csvReader: \n",
    "              \n",
    "            # Assuming a column named 'No' to \n",
    "            # be the primary key \n",
    "            key = rows['No'] \n",
    "            data[key] = rows \n",
    "  \n",
    "    # Open a json writer, and use the json.dumps()  \n",
    "    # function to dump data \n",
    "    with open(jsonFilePath, 'w', encoding='utf-8') as jsonf: \n",
    "        jsonf.write(json.dumps(data, indent=4)) "
   ]
  },
  {
   "cell_type": "code",
   "execution_count": 10,
   "metadata": {},
   "outputs": [],
   "source": [
    "import requests"
   ]
  },
  {
   "cell_type": "code",
   "execution_count": 12,
   "metadata": {},
   "outputs": [],
   "source": [
    "resp = requests.get(markets_url)\n",
    "text = resp.iter_lines()"
   ]
  },
  {
   "cell_type": "code",
   "execution_count": 16,
   "metadata": {},
   "outputs": [
    {
     "ename": "TypeError",
     "evalue": "'_csv.reader' object is not subscriptable",
     "output_type": "error",
     "traceback": [
      "\u001b[0;31m---------------------------------------------------------------------------\u001b[0m",
      "\u001b[0;31mTypeError\u001b[0m                                 Traceback (most recent call last)",
      "\u001b[0;32m<ipython-input-16-96150c4284bf>\u001b[0m in \u001b[0;36m<module>\u001b[0;34m\u001b[0m\n\u001b[1;32m      7\u001b[0m \u001b[0;32mwith\u001b[0m \u001b[0mclosing\u001b[0m\u001b[0;34m(\u001b[0m\u001b[0mrequests\u001b[0m\u001b[0;34m.\u001b[0m\u001b[0mget\u001b[0m\u001b[0;34m(\u001b[0m\u001b[0mmarkets_url\u001b[0m\u001b[0;34m,\u001b[0m \u001b[0mstream\u001b[0m\u001b[0;34m=\u001b[0m\u001b[0;32mTrue\u001b[0m\u001b[0;34m)\u001b[0m\u001b[0;34m)\u001b[0m \u001b[0;32mas\u001b[0m \u001b[0mr\u001b[0m\u001b[0;34m:\u001b[0m\u001b[0;34m\u001b[0m\u001b[0;34m\u001b[0m\u001b[0m\n\u001b[1;32m      8\u001b[0m     \u001b[0mreader\u001b[0m \u001b[0;34m=\u001b[0m \u001b[0mcsv\u001b[0m\u001b[0;34m.\u001b[0m\u001b[0mreader\u001b[0m\u001b[0;34m(\u001b[0m\u001b[0mr\u001b[0m\u001b[0;34m.\u001b[0m\u001b[0miter_lines\u001b[0m\u001b[0;34m(\u001b[0m\u001b[0;34m)\u001b[0m\u001b[0;34m,\u001b[0m \u001b[0mdelimiter\u001b[0m\u001b[0;34m=\u001b[0m\u001b[0;34m','\u001b[0m\u001b[0;34m,\u001b[0m \u001b[0mquotechar\u001b[0m\u001b[0;34m=\u001b[0m\u001b[0;34m'\"'\u001b[0m\u001b[0;34m)\u001b[0m\u001b[0;34m\u001b[0m\u001b[0;34m\u001b[0m\u001b[0m\n\u001b[0;32m----> 9\u001b[0;31m     \u001b[0;32mfor\u001b[0m \u001b[0mrow\u001b[0m \u001b[0;32min\u001b[0m \u001b[0mreader\u001b[0m\u001b[0;34m[\u001b[0m\u001b[0;34m:\u001b[0m\u001b[0;36m5\u001b[0m\u001b[0;34m]\u001b[0m\u001b[0;34m:\u001b[0m\u001b[0;34m\u001b[0m\u001b[0;34m\u001b[0m\u001b[0m\n\u001b[0m\u001b[1;32m     10\u001b[0m         \u001b[0mprint\u001b[0m\u001b[0;34m(\u001b[0m\u001b[0mrow\u001b[0m\u001b[0;34m)\u001b[0m\u001b[0;34m\u001b[0m\u001b[0;34m\u001b[0m\u001b[0m\n",
      "\u001b[0;31mTypeError\u001b[0m: '_csv.reader' object is not subscriptable"
     ]
    }
   ],
   "source": [
    "import requests\n",
    "from contextlib import closing\n",
    "import csv\n",
    "\n",
    "\n",
    "with closing(requests.get(markets_url, stream=True)) as r:\n",
    "    reader = csv.reader(r.iter_lines(), delimiter=',', quotechar='\"')\n",
    "    for row in reader:\n",
    "        "
   ]
  },
  {
   "cell_type": "code",
   "execution_count": null,
   "metadata": {},
   "outputs": [],
   "source": []
  }
 ],
 "metadata": {
  "kernelspec": {
   "display_name": "Python 3",
   "language": "python",
   "name": "python3"
  },
  "language_info": {
   "codemirror_mode": {
    "name": "ipython",
    "version": 3
   },
   "file_extension": ".py",
   "mimetype": "text/x-python",
   "name": "python",
   "nbconvert_exporter": "python",
   "pygments_lexer": "ipython3",
   "version": "3.8.2"
  }
 },
 "nbformat": 4,
 "nbformat_minor": 4
}
